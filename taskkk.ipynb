{
 "cells": [
  {
   "cell_type": "markdown",
   "id": "741b968a-095f-4843-9fda-cb7827d7267a",
   "metadata": {},
   "source": [
    "## heading"
   ]
  },
  {
   "cell_type": "code",
   "execution_count": 233,
   "id": "3eee826b-7265-4b9f-b21f-7705e265a182",
   "metadata": {},
   "outputs": [],
   "source": [
    "import pandas as pd\n"
   ]
  },
  {
   "cell_type": "code",
   "execution_count": 234,
   "id": "2284b3de-2d0e-4331-886d-5a4fa212b75e",
   "metadata": {},
   "outputs": [
    {
     "data": {
      "text/plain": [
       "{'cls5': ['shinas', 'ishq', 'rinshad'],\n",
       " 'class2': ['badhusha', 'aysha', 'shaan'],\n",
       " 'class3': ['asif', 'manu', 'basil']}"
      ]
     },
     "execution_count": 234,
     "metadata": {},
     "output_type": "execute_result"
    }
   ],
   "source": [
    "class1={'cls5':['shinas','ishq','rinshad'],'class2':['badhusha','aysha','shaan'],'class3':['asif','manu','basil']}\n",
    "class1"
   ]
  },
  {
   "cell_type": "code",
   "execution_count": 235,
   "id": "e8d78d87-1f4d-43b1-9471-3f6883d47ee3",
   "metadata": {},
   "outputs": [
    {
     "data": {
      "text/plain": [
       "(      cls5    class2 class3\n",
       " 0   shinas  badhusha   asif\n",
       " 1     ishq     aysha   manu\n",
       " 2  rinshad     shaan  basil,)"
      ]
     },
     "execution_count": 235,
     "metadata": {},
     "output_type": "execute_result"
    }
   ],
   "source": [
    "df= pd.DataFrame(class1),\n",
    "df"
   ]
  },
  {
   "cell_type": "code",
   "execution_count": 236,
   "id": "2e4ce612-cae8-43b0-ad7c-cd2e97e780f8",
   "metadata": {},
   "outputs": [
    {
     "data": {
      "text/plain": [
       "{'currency': ['usd',\n",
       "  'euro',\n",
       "  'rial',\n",
       "  'dirham',\n",
       "  'dinar',\n",
       "  'pound',\n",
       "  'swiss frank',\n",
       "  'nzd',\n",
       "  'CAD',\n",
       "  'AUD'],\n",
       " 'value': ['83.87',\n",
       "  '92.91',\n",
       "  '22.35',\n",
       "  '22.83',\n",
       "  '274.35',\n",
       "  '108.87',\n",
       "  '97.33',\n",
       "  '51.27',\n",
       "  '61.50',\n",
       "  '56.36']}"
      ]
     },
     "execution_count": 236,
     "metadata": {},
     "output_type": "execute_result"
    }
   ],
   "source": [
    "my_dict3={'currency':['usd','euro','rial','dirham','dinar','pound','swiss frank','nzd','CAD','AUD'],'value':['83.87','92.91','22.35','22.83','274.35','108.87','97.33','51.27','61.50','56.36']}\n",
    "my_dict3"
   ]
  },
  {
   "cell_type": "code",
   "execution_count": 237,
   "id": "3a811e73-a2cd-422f-9c40-e6d5cf816ce5",
   "metadata": {},
   "outputs": [
    {
     "data": {
      "text/html": [
       "<div>\n",
       "<style scoped>\n",
       "    .dataframe tbody tr th:only-of-type {\n",
       "        vertical-align: middle;\n",
       "    }\n",
       "\n",
       "    .dataframe tbody tr th {\n",
       "        vertical-align: top;\n",
       "    }\n",
       "\n",
       "    .dataframe thead th {\n",
       "        text-align: right;\n",
       "    }\n",
       "</style>\n",
       "<table border=\"1\" class=\"dataframe\">\n",
       "  <thead>\n",
       "    <tr style=\"text-align: right;\">\n",
       "      <th></th>\n",
       "      <th>currency</th>\n",
       "      <th>value</th>\n",
       "    </tr>\n",
       "  </thead>\n",
       "  <tbody>\n",
       "    <tr>\n",
       "      <th>0</th>\n",
       "      <td>usd</td>\n",
       "      <td>83.87</td>\n",
       "    </tr>\n",
       "    <tr>\n",
       "      <th>1</th>\n",
       "      <td>euro</td>\n",
       "      <td>92.91</td>\n",
       "    </tr>\n",
       "    <tr>\n",
       "      <th>2</th>\n",
       "      <td>rial</td>\n",
       "      <td>22.35</td>\n",
       "    </tr>\n",
       "    <tr>\n",
       "      <th>3</th>\n",
       "      <td>dirham</td>\n",
       "      <td>22.83</td>\n",
       "    </tr>\n",
       "    <tr>\n",
       "      <th>4</th>\n",
       "      <td>dinar</td>\n",
       "      <td>274.35</td>\n",
       "    </tr>\n",
       "    <tr>\n",
       "      <th>5</th>\n",
       "      <td>pound</td>\n",
       "      <td>108.87</td>\n",
       "    </tr>\n",
       "    <tr>\n",
       "      <th>6</th>\n",
       "      <td>swiss frank</td>\n",
       "      <td>97.33</td>\n",
       "    </tr>\n",
       "    <tr>\n",
       "      <th>7</th>\n",
       "      <td>nzd</td>\n",
       "      <td>51.27</td>\n",
       "    </tr>\n",
       "    <tr>\n",
       "      <th>8</th>\n",
       "      <td>CAD</td>\n",
       "      <td>61.50</td>\n",
       "    </tr>\n",
       "    <tr>\n",
       "      <th>9</th>\n",
       "      <td>AUD</td>\n",
       "      <td>56.36</td>\n",
       "    </tr>\n",
       "  </tbody>\n",
       "</table>\n",
       "</div>"
      ],
      "text/plain": [
       "      currency   value\n",
       "0          usd   83.87\n",
       "1         euro   92.91\n",
       "2         rial   22.35\n",
       "3       dirham   22.83\n",
       "4        dinar  274.35\n",
       "5        pound  108.87\n",
       "6  swiss frank   97.33\n",
       "7          nzd   51.27\n",
       "8          CAD   61.50\n",
       "9          AUD   56.36"
      ]
     },
     "execution_count": 237,
     "metadata": {},
     "output_type": "execute_result"
    }
   ],
   "source": [
    "df=pd.DataFrame(my_dict3)\n",
    "df"
   ]
  },
  {
   "cell_type": "code",
   "execution_count": 238,
   "id": "3f200cc3-ad7b-4867-9118-d2b98f1adbd3",
   "metadata": {},
   "outputs": [
    {
     "data": {
      "text/plain": [
       "{'players': ['vanbesten', 'forlan', 'gerrard', 'giggs'],\n",
       " 'club': ['ac milan', 'atletico madrid', 'liverpool', 'm.united'],\n",
       " 'jersey': ['12', '7', '8', '11']}"
      ]
     },
     "execution_count": 238,
     "metadata": {},
     "output_type": "execute_result"
    }
   ],
   "source": [
    "my_dict2={'players':['vanbesten','forlan','gerrard','giggs'],'club':['ac milan','atletico madrid','liverpool','m.united'],'jersey':['12','7','8','11']}\n",
    "my_dict2         "
   ]
  },
  {
   "cell_type": "code",
   "execution_count": 239,
   "id": "68f7d743-7944-4901-8ad1-ef550af435f6",
   "metadata": {},
   "outputs": [
    {
     "data": {
      "text/html": [
       "<div>\n",
       "<style scoped>\n",
       "    .dataframe tbody tr th:only-of-type {\n",
       "        vertical-align: middle;\n",
       "    }\n",
       "\n",
       "    .dataframe tbody tr th {\n",
       "        vertical-align: top;\n",
       "    }\n",
       "\n",
       "    .dataframe thead th {\n",
       "        text-align: right;\n",
       "    }\n",
       "</style>\n",
       "<table border=\"1\" class=\"dataframe\">\n",
       "  <thead>\n",
       "    <tr style=\"text-align: right;\">\n",
       "      <th></th>\n",
       "      <th>players</th>\n",
       "      <th>club</th>\n",
       "      <th>jersey</th>\n",
       "    </tr>\n",
       "  </thead>\n",
       "  <tbody>\n",
       "    <tr>\n",
       "      <th>0</th>\n",
       "      <td>vanbesten</td>\n",
       "      <td>ac milan</td>\n",
       "      <td>12</td>\n",
       "    </tr>\n",
       "    <tr>\n",
       "      <th>1</th>\n",
       "      <td>forlan</td>\n",
       "      <td>atletico madrid</td>\n",
       "      <td>7</td>\n",
       "    </tr>\n",
       "    <tr>\n",
       "      <th>2</th>\n",
       "      <td>gerrard</td>\n",
       "      <td>liverpool</td>\n",
       "      <td>8</td>\n",
       "    </tr>\n",
       "    <tr>\n",
       "      <th>3</th>\n",
       "      <td>giggs</td>\n",
       "      <td>m.united</td>\n",
       "      <td>11</td>\n",
       "    </tr>\n",
       "  </tbody>\n",
       "</table>\n",
       "</div>"
      ],
      "text/plain": [
       "     players             club jersey\n",
       "0  vanbesten         ac milan     12\n",
       "1     forlan  atletico madrid      7\n",
       "2    gerrard        liverpool      8\n",
       "3      giggs         m.united     11"
      ]
     },
     "execution_count": 239,
     "metadata": {},
     "output_type": "execute_result"
    }
   ],
   "source": [
    "df=pd.DataFrame(my_dict2)\n",
    "df"
   ]
  },
  {
   "cell_type": "code",
   "execution_count": 240,
   "id": "6f8dfe0a-95d2-48f8-ae19-cc6b6d0d99bf",
   "metadata": {},
   "outputs": [
    {
     "data": {
      "text/plain": [
       "{'countries': ['INDIA',\n",
       "  'USA',\n",
       "  'FRANCE',\n",
       "  'SPAIN',\n",
       "  'GERMANY',\n",
       "  'ITALY',\n",
       "  'JAPAN',\n",
       "  'CHINA',\n",
       "  'RUSSIA',\n",
       "  'CANADA'],\n",
       " 'GDP': ['3.38 TRILLION',\n",
       "  '25.46 TRILLION',\n",
       "  '2.78 TRILLOIN',\n",
       "  '1.39 TRILLION',\n",
       "  '4.07 TRILLION',\n",
       "  '2.01 TRILLION',\n",
       "  '4.23 TRILLION',\n",
       "  '17.96 TRILLION',\n",
       "  '2.24 TRILLION',\n",
       "  '2.14 TRILLION']}"
      ]
     },
     "execution_count": 240,
     "metadata": {},
     "output_type": "execute_result"
    }
   ],
   "source": [
    "my_dict5={'countries':['INDIA','USA','FRANCE','SPAIN','GERMANY','ITALY','JAPAN','CHINA','RUSSIA','CANADA'],'GDP':['3.38 TRILLION','25.46 TRILLION','2.78 TRILLOIN','1.39 TRILLION','4.07 TRILLION','2.01 TRILLION','4.23 TRILLION','17.96 TRILLION','2.24 TRILLION','2.14 TRILLION']}\n",
    "my_dict5\n",
    "                                                                                                                \n"
   ]
  },
  {
   "cell_type": "code",
   "execution_count": 241,
   "id": "11a30ced-ff24-443a-8537-0d4f93721808",
   "metadata": {},
   "outputs": [
    {
     "data": {
      "text/html": [
       "<div>\n",
       "<style scoped>\n",
       "    .dataframe tbody tr th:only-of-type {\n",
       "        vertical-align: middle;\n",
       "    }\n",
       "\n",
       "    .dataframe tbody tr th {\n",
       "        vertical-align: top;\n",
       "    }\n",
       "\n",
       "    .dataframe thead th {\n",
       "        text-align: right;\n",
       "    }\n",
       "</style>\n",
       "<table border=\"1\" class=\"dataframe\">\n",
       "  <thead>\n",
       "    <tr style=\"text-align: right;\">\n",
       "      <th></th>\n",
       "      <th>countries</th>\n",
       "      <th>GDP</th>\n",
       "    </tr>\n",
       "  </thead>\n",
       "  <tbody>\n",
       "    <tr>\n",
       "      <th>0</th>\n",
       "      <td>INDIA</td>\n",
       "      <td>3.38 TRILLION</td>\n",
       "    </tr>\n",
       "    <tr>\n",
       "      <th>1</th>\n",
       "      <td>USA</td>\n",
       "      <td>25.46 TRILLION</td>\n",
       "    </tr>\n",
       "    <tr>\n",
       "      <th>2</th>\n",
       "      <td>FRANCE</td>\n",
       "      <td>2.78 TRILLOIN</td>\n",
       "    </tr>\n",
       "    <tr>\n",
       "      <th>3</th>\n",
       "      <td>SPAIN</td>\n",
       "      <td>1.39 TRILLION</td>\n",
       "    </tr>\n",
       "    <tr>\n",
       "      <th>4</th>\n",
       "      <td>GERMANY</td>\n",
       "      <td>4.07 TRILLION</td>\n",
       "    </tr>\n",
       "    <tr>\n",
       "      <th>5</th>\n",
       "      <td>ITALY</td>\n",
       "      <td>2.01 TRILLION</td>\n",
       "    </tr>\n",
       "    <tr>\n",
       "      <th>6</th>\n",
       "      <td>JAPAN</td>\n",
       "      <td>4.23 TRILLION</td>\n",
       "    </tr>\n",
       "    <tr>\n",
       "      <th>7</th>\n",
       "      <td>CHINA</td>\n",
       "      <td>17.96 TRILLION</td>\n",
       "    </tr>\n",
       "    <tr>\n",
       "      <th>8</th>\n",
       "      <td>RUSSIA</td>\n",
       "      <td>2.24 TRILLION</td>\n",
       "    </tr>\n",
       "    <tr>\n",
       "      <th>9</th>\n",
       "      <td>CANADA</td>\n",
       "      <td>2.14 TRILLION</td>\n",
       "    </tr>\n",
       "  </tbody>\n",
       "</table>\n",
       "</div>"
      ],
      "text/plain": [
       "  countries             GDP\n",
       "0     INDIA   3.38 TRILLION\n",
       "1       USA  25.46 TRILLION\n",
       "2    FRANCE   2.78 TRILLOIN\n",
       "3     SPAIN   1.39 TRILLION\n",
       "4   GERMANY   4.07 TRILLION\n",
       "5     ITALY   2.01 TRILLION\n",
       "6     JAPAN   4.23 TRILLION\n",
       "7     CHINA  17.96 TRILLION\n",
       "8    RUSSIA   2.24 TRILLION\n",
       "9    CANADA   2.14 TRILLION"
      ]
     },
     "execution_count": 241,
     "metadata": {},
     "output_type": "execute_result"
    }
   ],
   "source": [
    "df=pd.DataFrame(my_dict5)\n",
    "df"
   ]
  },
  {
   "cell_type": "code",
   "execution_count": 242,
   "id": "a1486d39-0c56-4506-8c04-bab58859ed37",
   "metadata": {},
   "outputs": [
    {
     "data": {
      "text/html": [
       "<div>\n",
       "<style scoped>\n",
       "    .dataframe tbody tr th:only-of-type {\n",
       "        vertical-align: middle;\n",
       "    }\n",
       "\n",
       "    .dataframe tbody tr th {\n",
       "        vertical-align: top;\n",
       "    }\n",
       "\n",
       "    .dataframe thead th {\n",
       "        text-align: right;\n",
       "    }\n",
       "</style>\n",
       "<table border=\"1\" class=\"dataframe\">\n",
       "  <thead>\n",
       "    <tr style=\"text-align: right;\">\n",
       "      <th></th>\n",
       "      <th>countries</th>\n",
       "      <th>GDP</th>\n",
       "    </tr>\n",
       "  </thead>\n",
       "  <tbody>\n",
       "    <tr>\n",
       "      <th>5</th>\n",
       "      <td>ITALY</td>\n",
       "      <td>2.01 TRILLION</td>\n",
       "    </tr>\n",
       "    <tr>\n",
       "      <th>6</th>\n",
       "      <td>JAPAN</td>\n",
       "      <td>4.23 TRILLION</td>\n",
       "    </tr>\n",
       "    <tr>\n",
       "      <th>7</th>\n",
       "      <td>CHINA</td>\n",
       "      <td>17.96 TRILLION</td>\n",
       "    </tr>\n",
       "    <tr>\n",
       "      <th>8</th>\n",
       "      <td>RUSSIA</td>\n",
       "      <td>2.24 TRILLION</td>\n",
       "    </tr>\n",
       "    <tr>\n",
       "      <th>9</th>\n",
       "      <td>CANADA</td>\n",
       "      <td>2.14 TRILLION</td>\n",
       "    </tr>\n",
       "  </tbody>\n",
       "</table>\n",
       "</div>"
      ],
      "text/plain": [
       "  countries             GDP\n",
       "5     ITALY   2.01 TRILLION\n",
       "6     JAPAN   4.23 TRILLION\n",
       "7     CHINA  17.96 TRILLION\n",
       "8    RUSSIA   2.24 TRILLION\n",
       "9    CANADA   2.14 TRILLION"
      ]
     },
     "execution_count": 242,
     "metadata": {},
     "output_type": "execute_result"
    }
   ],
   "source": [
    "df.tail()"
   ]
  },
  {
   "cell_type": "code",
   "execution_count": 7,
   "id": "eaffe16b-982d-41a7-8959-f75b24c81cb2",
   "metadata": {},
   "outputs": [],
   "source": [
    "#20-8\n",
    "import pandas as pd"
   ]
  },
  {
   "cell_type": "code",
   "execution_count": null,
   "id": "308ade39-65ab-4d5e-af2e-9e4019ee5f66",
   "metadata": {
    "scrolled": true
   },
   "outputs": [],
   "source": []
  },
  {
   "cell_type": "code",
   "execution_count": 30,
   "id": "33649f60-7d6e-4e3f-8040-eb1246701ad5",
   "metadata": {},
   "outputs": [
    {
     "data": {
      "text/html": [
       "<div>\n",
       "<style scoped>\n",
       "    .dataframe tbody tr th:only-of-type {\n",
       "        vertical-align: middle;\n",
       "    }\n",
       "\n",
       "    .dataframe tbody tr th {\n",
       "        vertical-align: top;\n",
       "    }\n",
       "\n",
       "    .dataframe thead th {\n",
       "        text-align: right;\n",
       "    }\n",
       "</style>\n",
       "<table border=\"1\" class=\"dataframe\">\n",
       "  <thead>\n",
       "    <tr style=\"text-align: right;\">\n",
       "      <th></th>\n",
       "      <th>Column</th>\n",
       "      <th>QuestionText</th>\n",
       "    </tr>\n",
       "  </thead>\n",
       "  <tbody>\n",
       "    <tr>\n",
       "      <th>0</th>\n",
       "      <td>Respondent</td>\n",
       "      <td>Randomized respondent ID number (not in order ...</td>\n",
       "    </tr>\n",
       "    <tr>\n",
       "      <th>1</th>\n",
       "      <td>MainBranch</td>\n",
       "      <td>Which of the following options best describes ...</td>\n",
       "    </tr>\n",
       "    <tr>\n",
       "      <th>2</th>\n",
       "      <td>Hobbyist</td>\n",
       "      <td>Do you code as a hobby?</td>\n",
       "    </tr>\n",
       "    <tr>\n",
       "      <th>3</th>\n",
       "      <td>OpenSourcer</td>\n",
       "      <td>How often do you contribute to open source?</td>\n",
       "    </tr>\n",
       "    <tr>\n",
       "      <th>4</th>\n",
       "      <td>OpenSource</td>\n",
       "      <td>How do you feel about the quality of open sour...</td>\n",
       "    </tr>\n",
       "    <tr>\n",
       "      <th>...</th>\n",
       "      <td>...</td>\n",
       "      <td>...</td>\n",
       "    </tr>\n",
       "    <tr>\n",
       "      <th>80</th>\n",
       "      <td>Sexuality</td>\n",
       "      <td>Which of the following do you currently identi...</td>\n",
       "    </tr>\n",
       "    <tr>\n",
       "      <th>81</th>\n",
       "      <td>Ethnicity</td>\n",
       "      <td>Which of the following do you identify as? Ple...</td>\n",
       "    </tr>\n",
       "    <tr>\n",
       "      <th>82</th>\n",
       "      <td>Dependents</td>\n",
       "      <td>Do you have any dependents (e.g., children, el...</td>\n",
       "    </tr>\n",
       "    <tr>\n",
       "      <th>83</th>\n",
       "      <td>SurveyLength</td>\n",
       "      <td>How do you feel about the length of the survey...</td>\n",
       "    </tr>\n",
       "    <tr>\n",
       "      <th>84</th>\n",
       "      <td>SurveyEase</td>\n",
       "      <td>How easy or difficult was this survey to compl...</td>\n",
       "    </tr>\n",
       "  </tbody>\n",
       "</table>\n",
       "<p>85 rows × 2 columns</p>\n",
       "</div>"
      ],
      "text/plain": [
       "          Column                                       QuestionText\n",
       "0     Respondent  Randomized respondent ID number (not in order ...\n",
       "1     MainBranch  Which of the following options best describes ...\n",
       "2       Hobbyist                            Do you code as a hobby?\n",
       "3    OpenSourcer        How often do you contribute to open source?\n",
       "4     OpenSource  How do you feel about the quality of open sour...\n",
       "..           ...                                                ...\n",
       "80     Sexuality  Which of the following do you currently identi...\n",
       "81     Ethnicity  Which of the following do you identify as? Ple...\n",
       "82    Dependents  Do you have any dependents (e.g., children, el...\n",
       "83  SurveyLength  How do you feel about the length of the survey...\n",
       "84    SurveyEase  How easy or difficult was this survey to compl...\n",
       "\n",
       "[85 rows x 2 columns]"
      ]
     },
     "execution_count": 30,
     "metadata": {},
     "output_type": "execute_result"
    }
   ],
   "source": [
    "pd.read_csv(r\"C:\\Users\\diluz\\Downloads\\stack-overflow-developer-survey-2019 (2)\\survey_results_schema.csv\")"
   ]
  },
  {
   "cell_type": "code",
   "execution_count": null,
   "id": "25d1599d-a7bb-44ec-87d0-745946f11a40",
   "metadata": {},
   "outputs": [],
   "source": []
  }
 ],
 "metadata": {
  "kernelspec": {
   "display_name": "Python 3 (ipykernel)",
   "language": "python",
   "name": "python3"
  },
  "language_info": {
   "codemirror_mode": {
    "name": "ipython",
    "version": 3
   },
   "file_extension": ".py",
   "mimetype": "text/x-python",
   "name": "python",
   "nbconvert_exporter": "python",
   "pygments_lexer": "ipython3",
   "version": "3.12.4"
  }
 },
 "nbformat": 4,
 "nbformat_minor": 5
}
